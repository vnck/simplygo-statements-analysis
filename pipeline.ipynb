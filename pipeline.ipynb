{
 "cells": [
  {
   "cell_type": "code",
   "execution_count": null,
   "metadata": {},
   "outputs": [],
   "source": [
    "import camelot\n",
    "import glob\n",
    "import pandas as pd\n",
    "import re\n",
    "import numpy as np\n",
    "from datetime import datetime"
   ]
  },
  {
   "attachments": {},
   "cell_type": "markdown",
   "metadata": {},
   "source": [
    "# Extracting Statements from SimplyGo\n",
    "\n",
    "1. Log in to (SimplyGo)[https://simplygo.transitlink.com.sg/].\n",
    "2. Download monthly statements from the [My Statements](https://simplygo.transitlink.com.sg/Cards/Transactions) tab.\n",
    "3. Place the PDF(s) into the same directory as the notebook."
   ]
  },
  {
   "attachments": {},
   "cell_type": "markdown",
   "metadata": {},
   "source": [
    "# Code"
   ]
  },
  {
   "attachments": {},
   "cell_type": "markdown",
   "metadata": {},
   "source": [
    "## Convert PDF to Dataframes using Camelot"
   ]
  },
  {
   "cell_type": "code",
   "execution_count": null,
   "metadata": {},
   "outputs": [],
   "source": [
    "pdf_paths = glob.glob(\"*.pdf\")\n",
    "print(f'{len(pdf_paths)} paths found... {pdf_paths}')"
   ]
  },
  {
   "cell_type": "code",
   "execution_count": null,
   "metadata": {},
   "outputs": [],
   "source": [
    "def get_all_dataframes(paths):\n",
    "    dfs = []\n",
    "    for path in paths:\n",
    "        tables = camelot.read_pdf(path, pages='1-end', flavor='stream', edge_tol=50, row_tol=20)\n",
    "        for i,table in enumerate(tables):\n",
    "            try:\n",
    "                _df = table.df\n",
    "                dfs.append(_df)\n",
    "            except:\n",
    "                print(f\"Error for table {i} in {path}...\")\n",
    "    return dfs"
   ]
  },
  {
   "cell_type": "code",
   "execution_count": null,
   "metadata": {},
   "outputs": [],
   "source": [
    "dfs = get_all_dataframes(pdf_paths)"
   ]
  },
  {
   "attachments": {},
   "cell_type": "markdown",
   "metadata": {},
   "source": [
    "## Data Transformation"
   ]
  },
  {
   "cell_type": "code",
   "execution_count": null,
   "metadata": {},
   "outputs": [],
   "source": [
    "cleaned_dfs = []\n",
    "for df in dfs:\n",
    "    if df.iloc[0,0] == \"TRAVEL / PAYMENT HISTORY\":\n",
    "        df = df.iloc[2:]\n",
    "    df = df[[0,1,2]].rename(columns={0:'datetime',1:'detail',2:'charges'})\n",
    "    cleaned_dfs.append(df)\n",
    "\n",
    "df = pd.concat(cleaned_dfs)\n",
    "df = df[df.charges.str.match(r'\\$[0-9]+\\.[0-9]+')]\n",
    "df = df[df.datetime != 'POSTED'].reset_index(drop=True)"
   ]
  },
  {
   "cell_type": "code",
   "execution_count": null,
   "metadata": {},
   "outputs": [],
   "source": [
    "curr_date = \"\"\n",
    "for i,row in df.iterrows():\n",
    "    if re.match(r\"^[A-Z][a-z]{2}, \\d{2}/\\d{2}/\\d{4}$\",row['datetime']):\n",
    "        curr_date = row['datetime']\n",
    "    else:\n",
    "        df.loc[i,'datetime'] = f\"{curr_date}, {row['datetime']}\"\n",
    "\n",
    "df = df[~df.datetime.str.match(r\"^[A-Z][a-z]{2}, \\d{2}/\\d{2}/\\d{4}$\")]\n",
    "df['datetime'] = pd.to_datetime(df['datetime'], format='%a, %d/%m/%Y, %I:%M %p')\n",
    "df['day'] = df['datetime'].dt.day\n",
    "df['month'] = df['datetime'].dt.month\n",
    "df['year'] = df['datetime'].dt.year\n",
    "df['hour'] = df['datetime'].dt.hour\n",
    "df['minute'] = df['datetime'].dt.minute\n",
    "df['dow'] = df['datetime'].dt.day_name()\n",
    "\n",
    "df['detail'] = df['detail'].str.replace('\\n',' ')\n",
    "df[['origin', 'destination']] = df['detail'].str.split(' - ',n=1, expand=True)\n",
    "df['charges'] = df['charges'].str.replace(\"$\",\"\").astype(float)\n",
    "\n",
    "for i,row in df.iterrows():\n",
    "    r = re.search(r\"\\((\\d+[a-zA-z]?)\\)\",row['destination'])\n",
    "    if r is not None:\n",
    "        df.loc[i,'mode'] = 'bus'\n",
    "        df.loc[i,'bus_no'] = r.group(1)\n",
    "        df.loc[i,'destination'] = re.sub(r\"\\((\\d+[a-zA-z]?)\\)\", \"\", row['destination'])\n",
    "    else:\n",
    "        df.loc[i,'origin'] = row['origin'] + \" Station\"\n",
    "        df.loc[i,'destination'] = row['destination'] + \" Station\"\n",
    "        df.loc[i,'mode'] = 'train'"
   ]
  },
  {
   "attachments": {},
   "cell_type": "markdown",
   "metadata": {},
   "source": [
    "# Save Output"
   ]
  },
  {
   "cell_type": "code",
   "execution_count": null,
   "metadata": {},
   "outputs": [],
   "source": [
    "df"
   ]
  },
  {
   "cell_type": "code",
   "execution_count": null,
   "metadata": {},
   "outputs": [],
   "source": [
    "today = datetime.today().strftime(\"%Y-%m-%d\")\n",
    "df.to_csv(f'public_trasport_record_{today}.csv',index=False)"
   ]
  }
 ],
 "metadata": {
  "kernelspec": {
   "display_name": "budget",
   "language": "python",
   "name": "python3"
  },
  "language_info": {
   "codemirror_mode": {
    "name": "ipython",
    "version": 3
   },
   "file_extension": ".py",
   "mimetype": "text/x-python",
   "name": "python",
   "nbconvert_exporter": "python",
   "pygments_lexer": "ipython3",
   "version": "3.11.4"
  },
  "orig_nbformat": 4
 },
 "nbformat": 4,
 "nbformat_minor": 2
}
